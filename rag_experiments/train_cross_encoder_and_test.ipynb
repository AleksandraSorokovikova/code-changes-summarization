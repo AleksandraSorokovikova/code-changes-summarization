{
 "cells": [
  {
   "cell_type": "code",
   "execution_count": 1,
   "metadata": {},
   "outputs": [],
   "source": [
    "from qwen_cross_encoder import launch_training"
   ]
  },
  {
   "cell_type": "code",
   "execution_count": 2,
   "metadata": {},
   "outputs": [
    {
     "name": "stderr",
     "output_type": "stream",
     "text": [
      "Epoch 1/5 [Train]: 100%|██████████| 243/243 [03:31<00:00,  1.15it/s]\n"
     ]
    },
    {
     "name": "stdout",
     "output_type": "stream",
     "text": [
      "Epoch 1/5 - Train Loss: 0.6410\n"
     ]
    },
    {
     "name": "stderr",
     "output_type": "stream",
     "text": [
      "Epoch 2/5 [Train]: 100%|██████████| 243/243 [03:31<00:00,  1.15it/s]\n"
     ]
    },
    {
     "name": "stdout",
     "output_type": "stream",
     "text": [
      "Epoch 2/5 - Train Loss: 0.5267\n"
     ]
    },
    {
     "name": "stderr",
     "output_type": "stream",
     "text": [
      "Epoch 3/5 [Train]: 100%|██████████| 243/243 [03:31<00:00,  1.15it/s]\n"
     ]
    },
    {
     "name": "stdout",
     "output_type": "stream",
     "text": [
      "Epoch 3/5 - Train Loss: 0.4496\n"
     ]
    },
    {
     "name": "stderr",
     "output_type": "stream",
     "text": [
      "Epoch 4/5 [Train]: 100%|██████████| 243/243 [03:31<00:00,  1.15it/s]\n"
     ]
    },
    {
     "name": "stdout",
     "output_type": "stream",
     "text": [
      "Epoch 4/5 - Train Loss: 0.3775\n"
     ]
    },
    {
     "name": "stderr",
     "output_type": "stream",
     "text": [
      "Epoch 5/5 [Train]: 100%|██████████| 243/243 [03:31<00:00,  1.15it/s]\n"
     ]
    },
    {
     "name": "stdout",
     "output_type": "stream",
     "text": [
      "Epoch 5/5 - Train Loss: 0.3192\n"
     ]
    }
   ],
   "source": [
    "best_metrics_mixedbread = launch_training(\n",
    "    model_name=\"mixedbread-ai/mxbai-rerank-base-v1\",\n",
    "    metrics_file_path=\"mixedbread_metrics1.txt\",\n",
    "    num_epochs=5,\n",
    "    batch_size=32,\n",
    "    lr=9e-6,\n",
    ")"
   ]
  },
  {
   "cell_type": "code",
   "execution_count": 3,
   "metadata": {},
   "outputs": [
    {
     "name": "stdout",
     "output_type": "stream",
     "text": [
      "Metrics test for mixedbread fine-tuned model:\n",
      "AUC: 0.9109\n",
      "F1: 0.8581\n",
      "Recall: 0.8531\n",
      "Precision: 0.8632\n",
      "Accuracy: 0.8268\n"
     ]
    }
   ],
   "source": [
    "print(\"Metrics test for mixedbread fine-tuned model:\")\n",
    "print(f\"AUC: {best_metrics_mixedbread[0]:.4f}\")\n",
    "print(f\"F1: {best_metrics_mixedbread[1]:.4f}\")\n",
    "print(f\"Recall: {best_metrics_mixedbread[2]:.4f}\")\n",
    "print(f\"Precision: {best_metrics_mixedbread[3]:.4f}\")\n",
    "print(f\"Accuracy: {best_metrics_mixedbread[4]:.4f}\")"
   ]
  },
  {
   "cell_type": "code",
   "execution_count": 2,
   "metadata": {},
   "outputs": [
    {
     "name": "stderr",
     "output_type": "stream",
     "text": [
      "Some weights of RobertaForSequenceClassification were not initialized from the model checkpoint at microsoft/codebert-base and are newly initialized: ['classifier.dense.bias', 'classifier.dense.weight', 'classifier.out_proj.bias', 'classifier.out_proj.weight']\n",
      "You should probably TRAIN this model on a down-stream task to be able to use it for predictions and inference.\n",
      "Epoch 1/5 [Train]: 100%|██████████| 243/243 [01:25<00:00,  2.84it/s]\n"
     ]
    },
    {
     "name": "stdout",
     "output_type": "stream",
     "text": [
      "Epoch 1/5 - Train Loss: 0.6757\n"
     ]
    },
    {
     "name": "stderr",
     "output_type": "stream",
     "text": [
      "Epoch 2/5 [Train]: 100%|██████████| 243/243 [01:25<00:00,  2.84it/s]\n"
     ]
    },
    {
     "name": "stdout",
     "output_type": "stream",
     "text": [
      "Epoch 2/5 - Train Loss: 0.6556\n"
     ]
    },
    {
     "name": "stderr",
     "output_type": "stream",
     "text": [
      "Epoch 3/5 [Train]: 100%|██████████| 243/243 [01:25<00:00,  2.84it/s]\n"
     ]
    },
    {
     "name": "stdout",
     "output_type": "stream",
     "text": [
      "Epoch 3/5 - Train Loss: 0.5380\n"
     ]
    },
    {
     "name": "stderr",
     "output_type": "stream",
     "text": [
      "Epoch 4/5 [Train]: 100%|██████████| 243/243 [01:26<00:00,  2.83it/s]\n"
     ]
    },
    {
     "name": "stdout",
     "output_type": "stream",
     "text": [
      "Epoch 4/5 - Train Loss: 0.4804\n"
     ]
    },
    {
     "name": "stderr",
     "output_type": "stream",
     "text": [
      "Epoch 5/5 [Train]: 100%|██████████| 243/243 [01:25<00:00,  2.85it/s]\n"
     ]
    },
    {
     "name": "stdout",
     "output_type": "stream",
     "text": [
      "Epoch 5/5 - Train Loss: 0.4406\n"
     ]
    }
   ],
   "source": [
    "best_metrics_codebert = launch_training(\n",
    "    model_name=\"microsoft/codebert-base\",\n",
    "    metrics_file_path=\"codebert_metrics.txt\",\n",
    "    num_epochs=5,\n",
    "    batch_size=32,\n",
    "    lr=5e-6,\n",
    ")"
   ]
  },
  {
   "cell_type": "code",
   "execution_count": 3,
   "metadata": {},
   "outputs": [
    {
     "name": "stdout",
     "output_type": "stream",
     "text": [
      "Metrics test for codebert fine-tuned model:\n",
      "AUC: 0.8626\n",
      "F1: 0.8382\n",
      "Recall: 0.8522\n",
      "Precision: 0.8245\n",
      "Accuracy: 0.7979\n"
     ]
    }
   ],
   "source": [
    "print(\"Metrics test for codebert fine-tuned model:\")\n",
    "print(f\"AUC: {best_metrics_codebert[0]:.4f}\")\n",
    "print(f\"F1: {best_metrics_codebert[1]:.4f}\")\n",
    "print(f\"Recall: {best_metrics_codebert[2]:.4f}\")\n",
    "print(f\"Precision: {best_metrics_codebert[3]:.4f}\")\n",
    "print(f\"Accuracy: {best_metrics_codebert[4]:.4f}\")"
   ]
  },
  {
   "cell_type": "code",
   "execution_count": null,
   "metadata": {},
   "outputs": [],
   "source": []
  }
 ],
 "metadata": {
  "language_info": {
   "name": "python"
  }
 },
 "nbformat": 4,
 "nbformat_minor": 2
}
